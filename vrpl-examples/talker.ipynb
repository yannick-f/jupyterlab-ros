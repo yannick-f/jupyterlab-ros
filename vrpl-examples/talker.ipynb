{
 "cells": [
  {
   "cell_type": "markdown",
   "id": "987af111-0f07-4e61-9d07-8b710267243f",
   "metadata": {},
   "source": [
    "# This is an example for a talker node in ROS\n",
    "[Modified from source](https://raw.githubusercontent.com/ros/ros_tutorials/kinetic-devel/rospy_tutorials/001_talker_listener/talker.py)"
   ]
  },
  {
   "cell_type": "code",
   "execution_count": 1,
   "id": "a64defa7-3b0e-470e-b3cd-71502bc2c433",
   "metadata": {},
   "outputs": [],
   "source": [
    "import rospy as rp\n",
    "from std_msgs.msg import String"
   ]
  },
  {
   "cell_type": "code",
   "execution_count": 2,
   "id": "a9982432-fb73-4313-b52c-b97e2ec3e399",
   "metadata": {},
   "outputs": [],
   "source": [
    "pub = rp.Publisher('chatter', String, queue_size=10)"
   ]
  },
  {
   "cell_type": "code",
   "execution_count": 3,
   "id": "48eb72a7-f2f9-4a51-aa07-05937679b1a4",
   "metadata": {},
   "outputs": [],
   "source": [
    "rp.init_node('talker', anonymous=True)"
   ]
  },
  {
   "cell_type": "code",
   "execution_count": 4,
   "id": "97090ff4-6d4f-4f45-8495-f6a07a12524e",
   "metadata": {},
   "outputs": [
    {
     "name": "stdin",
     "output_type": "stream",
     "text": [
      " Test\n"
     ]
    }
   ],
   "source": [
    "p_msg =input()"
   ]
  },
  {
   "cell_type": "code",
   "execution_count": 5,
   "id": "18415fe1-1859-43ea-a9ff-75888d31a802",
   "metadata": {},
   "outputs": [],
   "source": [
    "pub.publish(p_msg)"
   ]
  }
 ],
 "metadata": {
  "kernelspec": {
   "display_name": "Python 3 (ipykernel)",
   "language": "python",
   "name": "python3"
  },
  "language_info": {
   "codemirror_mode": {
    "name": "ipython",
    "version": 3
   },
   "file_extension": ".py",
   "mimetype": "text/x-python",
   "name": "python",
   "nbconvert_exporter": "python",
   "pygments_lexer": "ipython3",
   "version": "3.8.10"
  }
 },
 "nbformat": 4,
 "nbformat_minor": 5
}
