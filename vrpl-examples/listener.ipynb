{
 "cells": [
  {
   "cell_type": "markdown",
   "id": "4be43010-5915-4742-9504-dfdb9c3aa8ef",
   "metadata": {},
   "source": [
    "# This is an example for a listener node in ROS\n",
    "[Modified from source](https://raw.githubusercontent.com/ros/ros_tutorials/kinetic-devel/rospy_tutorials/001_talker_listener/listener.py)"
   ]
  },
  {
   "cell_type": "code",
   "execution_count": 1,
   "id": "ed534b35-9a59-4285-bf30-94bb1c141ae0",
   "metadata": {},
   "outputs": [],
   "source": [
    "import rospy\n",
    "from std_msgs.msg import String"
   ]
  },
  {
   "cell_type": "code",
   "execution_count": 2,
   "id": "e155cb26-a3c3-4053-a437-2289ca26bfb4",
   "metadata": {},
   "outputs": [],
   "source": [
    "def callback(data):\n",
    "    rospy.loginfo(rospy.get_caller_id() + 'I heard %s', data.data)"
   ]
  },
  {
   "cell_type": "code",
   "execution_count": 3,
   "id": "2e94b63c-2d7d-4157-a6ba-c4bc6e2efe85",
   "metadata": {},
   "outputs": [],
   "source": [
    "def listener():\n",
    "    rospy.init_node('listener', anonymous=True)\n",
    "    rospy.Subscriber('chatter', String, callback)\n",
    "    rospy.spin()"
   ]
  },
  {
   "cell_type": "code",
   "execution_count": null,
   "id": "4fcafc06-23d7-407b-a5cf-3b3c43859291",
   "metadata": {},
   "outputs": [
    {
     "name": "stdout",
     "output_type": "stream",
     "text": [
      "[INFO] [1636447907.102806]: /listener_1159_1636447892135I heard Test\n"
     ]
    }
   ],
   "source": [
    "listener()"
   ]
  }
 ],
 "metadata": {
  "kernelspec": {
   "display_name": "Python 3 (ipykernel)",
   "language": "python",
   "name": "python3"
  },
  "language_info": {
   "codemirror_mode": {
    "name": "ipython",
    "version": 3
   },
   "file_extension": ".py",
   "mimetype": "text/x-python",
   "name": "python",
   "nbconvert_exporter": "python",
   "pygments_lexer": "ipython3",
   "version": "3.8.10"
  }
 },
 "nbformat": 4,
 "nbformat_minor": 5
}
